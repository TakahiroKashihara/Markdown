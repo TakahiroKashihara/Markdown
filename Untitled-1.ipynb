{
 "cells": [
  {
   "cell_type": "code",
   "execution_count": 2,
   "metadata": {},
   "outputs": [],
   "source": [
    "using Distributed"
   ]
  },
  {
   "cell_type": "code",
   "execution_count": 3,
   "metadata": {},
   "outputs": [
    {
     "data": {
      "text/plain": [
       "2-element Vector{Int64}:\n",
       " 2\n",
       " 3"
      ]
     },
     "execution_count": 3,
     "metadata": {},
     "output_type": "execute_result"
    }
   ],
   "source": [
    "addprocs(2)"
   ]
  },
  {
   "cell_type": "code",
   "execution_count": 4,
   "metadata": {},
   "outputs": [
    {
     "data": {
      "text/plain": [
       "2"
      ]
     },
     "execution_count": 4,
     "metadata": {},
     "output_type": "execute_result"
    }
   ],
   "source": [
    "nworkers()"
   ]
  },
  {
   "cell_type": "code",
   "execution_count": 5,
   "metadata": {},
   "outputs": [
    {
     "data": {
      "text/plain": [
       "3"
      ]
     },
     "execution_count": 5,
     "metadata": {},
     "output_type": "execute_result"
    }
   ],
   "source": [
    "nprocs()"
   ]
  },
  {
   "cell_type": "code",
   "execution_count": 6,
   "metadata": {},
   "outputs": [
    {
     "data": {
      "text/plain": [
       "1"
      ]
     },
     "execution_count": 6,
     "metadata": {},
     "output_type": "execute_result"
    }
   ],
   "source": [
    "myid()"
   ]
  },
  {
   "cell_type": "code",
   "execution_count": 22,
   "metadata": {},
   "outputs": [],
   "source": [
    "@everywhere function test(x)\n",
    "    return(x^2)\n",
    "end"
   ]
  },
  {
   "cell_type": "code",
   "execution_count": 7,
   "metadata": {},
   "outputs": [
    {
     "data": {
      "text/plain": [
       "Future(1, 1, 4, nothing)"
      ]
     },
     "execution_count": 7,
     "metadata": {},
     "output_type": "execute_result"
    }
   ],
   "source": [
    "r = remotecall(test,1,2.)"
   ]
  },
  {
   "cell_type": "code",
   "execution_count": 8,
   "metadata": {},
   "outputs": [
    {
     "data": {
      "text/plain": [
       "4.0"
      ]
     },
     "execution_count": 8,
     "metadata": {},
     "output_type": "execute_result"
    }
   ],
   "source": [
    "fetch(r)"
   ]
  },
  {
   "cell_type": "code",
   "execution_count": 12,
   "metadata": {},
   "outputs": [
    {
     "data": {
      "text/plain": [
       "Future(2, 1, 11, nothing)"
      ]
     },
     "execution_count": 12,
     "metadata": {},
     "output_type": "execute_result"
    }
   ],
   "source": [
    "r = remotecall(test,2,2.)"
   ]
  },
  {
   "cell_type": "code",
   "execution_count": 13,
   "metadata": {},
   "outputs": [
    {
     "data": {
      "text/plain": [
       "4.0"
      ]
     },
     "execution_count": 13,
     "metadata": {},
     "output_type": "execute_result"
    }
   ],
   "source": [
    "fetch(r)"
   ]
  },
  {
   "cell_type": "code",
   "execution_count": 15,
   "metadata": {},
   "outputs": [],
   "source": [
    "a = []\n",
    "for i in 1:10\n",
    "    t1 = fetch(remotecall(test,1,i)) \n",
    "    push!(a,t1)\n",
    "    t2 = fetch(remotecall(test,2,i+10))\n",
    "    push!(a,t2)\n",
    "end\n"
   ]
  },
  {
   "cell_type": "code",
   "execution_count": 27,
   "metadata": {},
   "outputs": [
    {
     "data": {
      "text/plain": [
       "16"
      ]
     },
     "execution_count": 27,
     "metadata": {},
     "output_type": "execute_result"
    }
   ],
   "source": [
    "s = remotecall_fetch(test,1,4)"
   ]
  },
  {
   "cell_type": "code",
   "execution_count": 21,
   "metadata": {},
   "outputs": [
    {
     "data": {
      "text/plain": [
       "plus2 (generic function with 1 method)"
      ]
     },
     "execution_count": 21,
     "metadata": {},
     "output_type": "execute_result"
    }
   ],
   "source": [
    "function plus(N::Int)\n",
    "    a = []\n",
    "    for i in 1:N\n",
    "        t1 = fetch(remotecall(test,1,i)) \n",
    "        push!(a,t1)\n",
    "        t2 = fetch(remotecall(test,2,i+N))\n",
    "        push!(a,t2)\n",
    "    end\n",
    "    return(sum(a))\n",
    "end\n",
    "function plus2(N::Int)\n",
    "    a = []\n",
    "    for i in 1:2*N\n",
    "        t1 = fetch(remotecall(test,1,i)) \n",
    "        push!(a,t1)\n",
    "    end\n",
    "    return(sum(a))\n",
    "end"
   ]
  },
  {
   "cell_type": "code",
   "execution_count": 24,
   "metadata": {},
   "outputs": [
    {
     "name": "stdout",
     "output_type": "stream",
     "text": [
      " 45.962272 seconds (13.11 M allocations: 470.167 MiB, 1.36% gc time)\n"
     ]
    },
    {
     "data": {
      "text/plain": [
       "2666686666700000"
      ]
     },
     "execution_count": 24,
     "metadata": {},
     "output_type": "execute_result"
    }
   ],
   "source": [
    "@time plus(100000)"
   ]
  },
  {
   "cell_type": "code",
   "execution_count": 25,
   "metadata": {},
   "outputs": [
    {
     "name": "stdout",
     "output_type": "stream",
     "text": [
      "  3.273824 seconds (6.90 M allocations: 291.483 MiB, 9.51% gc time)\n"
     ]
    },
    {
     "data": {
      "text/plain": [
       "2666686666700000"
      ]
     },
     "execution_count": 25,
     "metadata": {},
     "output_type": "execute_result"
    }
   ],
   "source": [
    "@time plus2(100000)"
   ]
  },
  {
   "cell_type": "code",
   "execution_count": 33,
   "metadata": {},
   "outputs": [],
   "source": [
    "@everywhere function p(N::Int,M::Int)\n",
    "    s = 0.\n",
    "    for i in N:M\n",
    "        s += i\n",
    "    end\n",
    "    return(s)\n",
    "end"
   ]
  },
  {
   "cell_type": "code",
   "execution_count": 34,
   "metadata": {},
   "outputs": [
    {
     "data": {
      "text/plain": [
       "155.0"
      ]
     },
     "execution_count": 34,
     "metadata": {},
     "output_type": "execute_result"
    }
   ],
   "source": [
    "p(11,20)"
   ]
  },
  {
   "cell_type": "code",
   "execution_count": 40,
   "metadata": {},
   "outputs": [
    {
     "name": "stdout",
     "output_type": "stream",
     "text": [
      "  0.024589 seconds (13.65 k allocations: 835.006 KiB, 97.46% compilation time)\n"
     ]
    },
    {
     "data": {
      "text/plain": [
       "2.001e6"
      ]
     },
     "execution_count": 40,
     "metadata": {},
     "output_type": "execute_result"
    }
   ],
   "source": [
    "N = 1000\n",
    "@time x = fetch(remotecall(p,1,1,N)) + fetch(remotecall(p,2,N+1,2*N))"
   ]
  },
  {
   "cell_type": "code",
   "execution_count": 41,
   "metadata": {},
   "outputs": [
    {
     "name": "stdout",
     "output_type": "stream",
     "text": [
      "  0.000096 seconds (42 allocations: 1.625 KiB)\n"
     ]
    },
    {
     "data": {
      "text/plain": [
       "2.001e6"
      ]
     },
     "execution_count": 41,
     "metadata": {},
     "output_type": "execute_result"
    }
   ],
   "source": [
    "@time x = fetch(remotecall(p,1,1,2*N)) "
   ]
  },
  {
   "cell_type": "code",
   "execution_count": 42,
   "metadata": {},
   "outputs": [],
   "source": [
    "using Distributed\n",
    "using Dates\n",
    "#using SharedArrays\n",
    "addprocs(2)\n",
    "\n",
    "@everywhere using Plots\n",
    "@everywhere using LinearAlgebra\n",
    "@everywhere const R = 10.\n",
    "@everywhere const Nk = 100\n",
    "@everywhere const Nw = 1000\n",
    "@everywhere const d = 1/20\n",
    "@everywhere const beta = 10000\n",
    "@everywhere const mu = 0.\n",
    "@everywhere function test(inputdata)\n",
    "    numofdata = countlines(inputdata) #ファイル行数をカウント.テキストファイルを上から詰めておかないと、空のファイルとみなされる\n",
    "    data = readlines(inputdata) #データファイルの読み込み。配列として確保される。\n",
    "    E = [] #空の配列\n",
    "    ims = [] #空の配列\n",
    "    res = []\n",
    "    #data_string = [] #空の配列\n",
    "    for inum = 1:numofdata\n",
    "        u = split(data[inum]) #i番目のデータ。\n",
    "        #println(u) #この状態ではstringになっている。\n",
    "        e = parse(Float64,u[1]) \n",
    "        i = parse.(Float64,u[2]) \n",
    "        r = parse.(Float64,u[3])\n",
    "        #ds = u[end] #最後の文字列の読み込み。endは配列の最後を意味する。\n",
    "        push!(E,e) #データの追加\n",
    "        push!(ims,i) #データの追加\n",
    "        push!(res,r) #データの追加\n",
    "    end\n",
    "    println(\"energy = $E\")\n",
    "    println(\"imS = $ims\")\n",
    "    println(\"reS = $res\")\n",
    "    return E,ims,res\n",
    "end\n"
   ]
  },
  {
   "cell_type": "code",
   "execution_count": 44,
   "metadata": {},
   "outputs": [
    {
     "name": "stdout",
     "output_type": "stream",
     "text": [
      "energy = Any[-1.0, 0.0, 1.0]\n",
      "imS = Any[2.0, 2.0, 2.0]\n",
      "reS = Any[3.0, 3.0, 3.0]\n"
     ]
    },
    {
     "data": {
      "text/plain": [
       "(Any[-1.0, 0.0, 1.0], Any[2.0, 2.0, 2.0], Any[3.0, 3.0, 3.0])"
      ]
     },
     "execution_count": 44,
     "metadata": {},
     "output_type": "execute_result"
    }
   ],
   "source": [
    "omega,imsA,resA = fetch(remotecall(test,1,\"SAAtest.txt\"))"
   ]
  },
  {
   "cell_type": "code",
   "execution_count": 45,
   "metadata": {},
   "outputs": [
    {
     "name": "stdout",
     "output_type": "stream",
     "text": [
      "      From worker 2:\tenergy = Any[-1.0, 0.0, 1.0]\n",
      "      From worker 2:\timS = Any[2.0, 3.0, 3.0]\n",
      "      From worker 2:\treS = Any[4.0, 3.0, 3.0]\n"
     ]
    },
    {
     "data": {
      "text/plain": [
       "(Any[-1.0, 0.0, 1.0], Any[2.0, 3.0, 3.0], Any[4.0, 3.0, 3.0])"
      ]
     },
     "execution_count": 45,
     "metadata": {},
     "output_type": "execute_result"
    }
   ],
   "source": [
    "omega,imsB,resB = fetch(remotecall(test,2,\"SBBtest.txt\"))"
   ]
  },
  {
   "cell_type": "code",
   "execution_count": 46,
   "metadata": {},
   "outputs": [],
   "source": [
    "@everywhere M = 0.\n",
    "@everywhere kx = range(0,2pi,length = Nk)\n",
    "@everywhere ky = copy(kx)\n",
    "@everywhere BZ1 = []#並列化できるようにBZを1次元配列にする\n",
    "for i in 1:length(kx)\n",
    "    for j in 1:length(ky)\n",
    "        push!(BZ1,[kx[i],ky[j]])\n",
    "    end\n",
    "end\n",
    "@everywhere function H(k::Vector{Float64},M::Float64)\n",
    "    kx = k[1]\n",
    "    ky = k[2]\n",
    "    h11 = M + cos(kx) + cos(ky)\n",
    "    h12 = complex(sin(kx),-sin(ky))\n",
    "    h21 = conj(h12)\n",
    "    h22 = -(M + cos(kx) + cos(ky))\n",
    "    H = zeros(ComplexF64,2,2)\n",
    "    H[1,1] = h11\n",
    "    H[1,2] = h12\n",
    "    H[2,1] = h21\n",
    "    H[2,2] = h22\n",
    "\n",
    "\n",
    "    return(Hermitian(H))\n",
    "end\n",
    "@everywhere function H_dx(k::Vector{Float64})\n",
    "    kx = k[1]\n",
    "    ky = k[2]\n",
    "    h11 = -sin(kx)\n",
    "    h12 = cos(kx)\n",
    "    h21 = conj(h12)\n",
    "    h22 = sin(kx)\n",
    "    H = zeros(ComplexF64,2,2)\n",
    "    H[1,1] = h11\n",
    "    H[1,2] = h12\n",
    "    H[2,1] = h21\n",
    "    H[2,2] = h22\n",
    "\n",
    "\n",
    "    return(Hermitian(H))\n",
    "end\n",
    "@everywhere function H_dy(k::Vector{Float64})\n",
    "    kx = k[1]\n",
    "    ky = k[2]\n",
    "    h11 = -sin(ky)\n",
    "    h12 = complex(0,-cos(ky))\n",
    "    h21 = conj(h12)\n",
    "    h22 = sin(ky)\n",
    "    H = zeros(ComplexF64,2,2)\n",
    "    H[1,1] = h11\n",
    "    H[1,2] = h12\n",
    "    H[2,1] = h21\n",
    "    H[2,2] = h22\n",
    "\n",
    "\n",
    "    return(Hermitian(H))\n",
    "end\n",
    "#自己エネルギー\n",
    "@everywhere function Sigma(NE::Int)\n",
    "    return([complex(resA[NE],imsA[NE]) 0.;0. complex(resB[NE],imsB[NE])])\n",
    "end\n",
    "#自己エネルギー込みのGreen関数\n",
    "@everywhere function Gok(NE::Int#=周波数の番号=#,k::Vector{Float64},M::Float64)\n",
    "    return(inv(((omega[NE] + mu + complex(0,d))*Matrix{Float64}(I,2,2)-(H(k,M)+Sigma(NE)))))\n",
    "end \n",
    "#localなGreen関数\n",
    "@everywhere function G0(NE::Int,M::Float64)\n",
    "    return(sum(Gok.(NE,BZ1,M)))\n",
    "    \n",
    "end\n",
    "@everywhere function Go(NE::Int,M::Float64)\n",
    "    sum = @distributed (+) for i in 1:length(BZ1)\n",
    "    Gok(NE,BZ1[i],M)\n",
    "    end\n",
    "    return(sum*(1/Nk)^2)\n",
    "end\n",
    "\n",
    "#hybridization function\n",
    "@everywhere function Delta(NE::Int,M::Float64)\n",
    "    return(inv(Go(NE,M)) + Sigma(NE))\n",
    "end\n",
    "\n"
   ]
  },
  {
   "cell_type": "code",
   "execution_count": null,
   "metadata": {},
   "outputs": [],
   "source": [
    "@everywhere function Delta() \n",
    "    DeltaAA = ComplexF64[]\n",
    "    for i in 1:length(omega)\n",
    "        push!(DeltaAA,Delta(i,M)[1,1])\n",
    "    end\n",
    "end\n",
    "\n",
    "DeltaBB = ComplexF64[]\n",
    "for i in 1:length(omega)\n",
    "    push!(DeltaBB,Delta(i,M)[2,2])\n",
    "end\n"
   ]
  },
  {
   "cell_type": "code",
   "execution_count": 12,
   "metadata": {},
   "outputs": [
    {
     "name": "stdout",
     "output_type": "stream",
     "text": [
      "1\n",
      "2\n",
      "3\n"
     ]
    }
   ],
   "source": [
    "for i in 1:3\n",
    "    println(fetch(@spawnat i myid()))\n",
    "end"
   ]
  },
  {
   "cell_type": "code",
   "execution_count": 17,
   "metadata": {},
   "outputs": [
    {
     "data": {
      "text/plain": [
       "0"
      ]
     },
     "execution_count": 17,
     "metadata": {},
     "output_type": "execute_result"
    }
   ],
   "source": [
    "b = 0"
   ]
  },
  {
   "cell_type": "code",
   "execution_count": 19,
   "metadata": {},
   "outputs": [
    {
     "data": {
      "text/plain": [
       "Future(3, 1, 21, nothing)"
      ]
     },
     "execution_count": 19,
     "metadata": {},
     "output_type": "execute_result"
    },
    {
     "name": "stdout",
     "output_type": "stream",
     "text": [
      "      From worker 3:\t0\n"
     ]
    }
   ],
   "source": [
    "@spawnat 3 println(b)"
   ]
  },
  {
   "cell_type": "code",
   "execution_count": 21,
   "metadata": {},
   "outputs": [
    {
     "data": {
      "text/plain": [
       "Future(3, 1, 25, nothing)"
      ]
     },
     "execution_count": 21,
     "metadata": {},
     "output_type": "execute_result"
    },
    {
     "name": "stdout",
     "output_type": "stream",
     "text": [
      "      From worker 3:\t0\n"
     ]
    }
   ],
   "source": [
    "@spawnat 3 b = 1\n",
    "@spawnat 3 println(fetch(b))"
   ]
  },
  {
   "cell_type": "code",
   "execution_count": 23,
   "metadata": {},
   "outputs": [
    {
     "data": {
      "text/plain": [
       "0"
      ]
     },
     "execution_count": 23,
     "metadata": {},
     "output_type": "execute_result"
    }
   ],
   "source": [
    "b"
   ]
  },
  {
   "cell_type": "code",
   "execution_count": 24,
   "metadata": {},
   "outputs": [
    {
     "data": {
      "text/plain": [
       "Future(2, 1, 30, nothing)"
      ]
     },
     "execution_count": 24,
     "metadata": {},
     "output_type": "execute_result"
    }
   ],
   "source": [
    "b = remotecall(test,2,3.)"
   ]
  },
  {
   "cell_type": "code",
   "execution_count": 25,
   "metadata": {},
   "outputs": [
    {
     "data": {
      "text/plain": [
       "9.0"
      ]
     },
     "execution_count": 25,
     "metadata": {},
     "output_type": "execute_result"
    }
   ],
   "source": [
    "fetch(b)"
   ]
  },
  {
   "cell_type": "code",
   "execution_count": 31,
   "metadata": {},
   "outputs": [
    {
     "data": {
      "text/plain": [
       "16"
      ]
     },
     "execution_count": 31,
     "metadata": {},
     "output_type": "execute_result"
    }
   ],
   "source": [
    "fetch(@spawnat 3 b = test(4))"
   ]
  },
  {
   "cell_type": "code",
   "execution_count": 32,
   "metadata": {},
   "outputs": [
    {
     "data": {
      "text/plain": [
       "Future(2, 1, 30, Some(9.0))"
      ]
     },
     "execution_count": 32,
     "metadata": {},
     "output_type": "execute_result"
    }
   ],
   "source": [
    "b"
   ]
  },
  {
   "cell_type": "code",
   "execution_count": 33,
   "metadata": {},
   "outputs": [
    {
     "data": {
      "text/plain": [
       "9.0"
      ]
     },
     "execution_count": 33,
     "metadata": {},
     "output_type": "execute_result"
    }
   ],
   "source": [
    "fetch(b)"
   ]
  },
  {
   "cell_type": "code",
   "execution_count": 34,
   "metadata": {},
   "outputs": [
    {
     "data": {
      "text/plain": [
       "1"
      ]
     },
     "execution_count": 34,
     "metadata": {},
     "output_type": "execute_result"
    }
   ],
   "source": [
    "global a = 1"
   ]
  },
  {
   "cell_type": "code",
   "execution_count": 38,
   "metadata": {},
   "outputs": [
    {
     "name": "stdout",
     "output_type": "stream",
     "text": [
      "1\n"
     ]
    }
   ],
   "source": [
    "fetch(@spawnat 1 println(a))"
   ]
  },
  {
   "cell_type": "code",
   "execution_count": 40,
   "metadata": {},
   "outputs": [],
   "source": [
    "@everywhere function test(inputdata)\n",
    "    numofdata = countlines(inputdata) #ファイル行数をカウント.テキストファイルを上から詰めておかないと、空のファイルとみなされる\n",
    "    data = readlines(inputdata) #データファイルの読み込み。配列として確保される。\n",
    "    E = [] #空の配列\n",
    "    ims = [] #空の配列\n",
    "    res = []\n",
    "    #data_string = [] #空の配列\n",
    "    for inum = 1:numofdata\n",
    "        u = split(data[inum]) #i番目のデータ。\n",
    "        #println(u) #この状態ではstringになっている。\n",
    "        e = parse(Float64,u[1]) \n",
    "        i = parse.(Float64,u[2]) \n",
    "        r = parse.(Float64,u[3])\n",
    "        #ds = u[end] #最後の文字列の読み込み。endは配列の最後を意味する。\n",
    "        push!(E,e) #データの追加\n",
    "        push!(ims,i) #データの追加\n",
    "        push!(res,r) #データの追加\n",
    "    end\n",
    "    println(\"energy = $E\")\n",
    "    println(\"imS = $ims\")\n",
    "    println(\"reS = $res\")\n",
    "    return E,ims,res\n",
    "end"
   ]
  },
  {
   "cell_type": "code",
   "execution_count": 41,
   "metadata": {},
   "outputs": [
    {
     "data": {
      "text/plain": [
       "1"
      ]
     },
     "execution_count": 41,
     "metadata": {},
     "output_type": "execute_result"
    }
   ],
   "source": [
    "global f = 1"
   ]
  },
  {
   "cell_type": "code",
   "execution_count": 44,
   "metadata": {},
   "outputs": [
    {
     "name": "stdout",
     "output_type": "stream",
     "text": [
      "      From worker 2:\t1\n"
     ]
    }
   ],
   "source": [
    "fetch(@spawnat 2 println(f))"
   ]
  },
  {
   "cell_type": "code",
   "execution_count": 47,
   "metadata": {},
   "outputs": [
    {
     "name": "stdout",
     "output_type": "stream",
     "text": [
      "      From worker 2:\t1\n"
     ]
    }
   ],
   "source": [
    "@spawnat 3 t = 6\n",
    "fetch(@spawnat 2 println(t))"
   ]
  },
  {
   "cell_type": "code",
   "execution_count": 48,
   "metadata": {},
   "outputs": [
    {
     "name": "stdout",
     "output_type": "stream",
     "text": [
      "1\n",
      "2\n",
      "3\n"
     ]
    }
   ],
   "source": [
    "for i in 1:3\n",
    "    println(i)\n",
    "    @spawnat i k = 4\n",
    "end"
   ]
  },
  {
   "cell_type": "code",
   "execution_count": 52,
   "metadata": {},
   "outputs": [
    {
     "data": {
      "text/plain": [
       "RemoteException(1, CapturedException(UndefVarError(:k), Any[(#65 at macros.jl:87 [inlined], 1), (run_work_thunk(thunk::\u001b[0mvar\"#65#66\", print_error::\u001b[0mBool) at process_messages.jl:63, 1), (run_work_thunk(rv::\u001b[0mDistributed.RemoteValue, thunk::\u001b[0mFunction) at process_messages.jl:72, 1), ((::Distributed.var\"#96#98\"{Distributed.RemoteValue, var\"#65#66\"})() at task.jl:411, 1)]))"
      ]
     },
     "execution_count": 52,
     "metadata": {},
     "output_type": "execute_result"
    }
   ],
   "source": [
    "fetch(@spawnat 1 k)"
   ]
  },
  {
   "cell_type": "code",
   "execution_count": 50,
   "metadata": {},
   "outputs": [
    {
     "data": {
      "text/plain": [
       "Future(2, 1, 69, nothing)"
      ]
     },
     "execution_count": 50,
     "metadata": {},
     "output_type": "execute_result"
    }
   ],
   "source": [
    "@spawnat 2 println(k)"
   ]
  },
  {
   "cell_type": "code",
   "execution_count": 63,
   "metadata": {},
   "outputs": [],
   "source": [
    "@everywhere const d = 1\n",
    "a = 1\n",
    "@everywhere function test(x)\n",
    "    return(x^2 + d + a)\n",
    "end"
   ]
  },
  {
   "cell_type": "code",
   "execution_count": 64,
   "metadata": {},
   "outputs": [
    {
     "data": {
      "text/plain": [
       "11"
      ]
     },
     "execution_count": 64,
     "metadata": {},
     "output_type": "execute_result"
    }
   ],
   "source": [
    "M = 3\n",
    "fetch(@spawnat 2 test(M))"
   ]
  },
  {
   "cell_type": "code",
   "execution_count": 58,
   "metadata": {},
   "outputs": [
    {
     "data": {
      "text/plain": [
       "34"
      ]
     },
     "execution_count": 58,
     "metadata": {},
     "output_type": "execute_result"
    }
   ],
   "source": [
    "N = 5\n",
    "fetch(@spawnat 2 test(M)) + fetch(@spawnat 3 test(N)) "
   ]
  },
  {
   "cell_type": "code",
   "execution_count": 65,
   "metadata": {},
   "outputs": [
    {
     "data": {
      "text/plain": [
       "5.0"
      ]
     },
     "execution_count": 65,
     "metadata": {},
     "output_type": "execute_result"
    }
   ],
   "source": [
    "10/2"
   ]
  },
  {
   "cell_type": "code",
   "execution_count": 75,
   "metadata": {},
   "outputs": [
    {
     "ename": "LoadError",
     "evalue": "On worker 2:\ninvalid redefinition of constant d\nStacktrace:\n [1] top-level scope\n\u001b[90m   @ \u001b[39m\u001b[90;4mnone:1\u001b[0m\n [2] \u001b[0m\u001b[1meval\u001b[22m\n\u001b[90m   @ \u001b[39m\u001b[90m.\\\u001b[39m\u001b[90;4mboot.jl:360\u001b[0m\n [3] \u001b[0m\u001b[1m#103\u001b[22m\n\u001b[90m   @ \u001b[39m\u001b[90mC:\\buildbot\\worker\\package_win64\\build\\usr\\share\\julia\\stdlib\\v1.6\\Distributed\\src\\\u001b[39m\u001b[90;4mprocess_messages.jl:274\u001b[0m\n [4] \u001b[0m\u001b[1mrun_work_thunk\u001b[22m\n\u001b[90m   @ \u001b[39m\u001b[90mC:\\buildbot\\worker\\package_win64\\build\\usr\\share\\julia\\stdlib\\v1.6\\Distributed\\src\\\u001b[39m\u001b[90;4mprocess_messages.jl:63\u001b[0m\n [5] \u001b[0m\u001b[1mrun_work_thunk\u001b[22m\n\u001b[90m   @ \u001b[39m\u001b[90mC:\\buildbot\\worker\\package_win64\\build\\usr\\share\\julia\\stdlib\\v1.6\\Distributed\\src\\\u001b[39m\u001b[90;4mprocess_messages.jl:72\u001b[0m\n [6] \u001b[0m\u001b[1m#96\u001b[22m\n\u001b[90m   @ \u001b[39m\u001b[90m.\\\u001b[39m\u001b[90;4mtask.jl:411\u001b[0m\n\n...and 2 more exceptions.\n",
     "output_type": "error",
     "traceback": [
      "On worker 2:\ninvalid redefinition of constant d\nStacktrace:\n [1] top-level scope\n\u001b[90m   @ \u001b[39m\u001b[90;4mnone:1\u001b[0m\n [2] \u001b[0m\u001b[1meval\u001b[22m\n\u001b[90m   @ \u001b[39m\u001b[90m.\\\u001b[39m\u001b[90;4mboot.jl:360\u001b[0m\n [3] \u001b[0m\u001b[1m#103\u001b[22m\n\u001b[90m   @ \u001b[39m\u001b[90mC:\\buildbot\\worker\\package_win64\\build\\usr\\share\\julia\\stdlib\\v1.6\\Distributed\\src\\\u001b[39m\u001b[90;4mprocess_messages.jl:274\u001b[0m\n [4] \u001b[0m\u001b[1mrun_work_thunk\u001b[22m\n\u001b[90m   @ \u001b[39m\u001b[90mC:\\buildbot\\worker\\package_win64\\build\\usr\\share\\julia\\stdlib\\v1.6\\Distributed\\src\\\u001b[39m\u001b[90;4mprocess_messages.jl:63\u001b[0m\n [5] \u001b[0m\u001b[1mrun_work_thunk\u001b[22m\n\u001b[90m   @ \u001b[39m\u001b[90mC:\\buildbot\\worker\\package_win64\\build\\usr\\share\\julia\\stdlib\\v1.6\\Distributed\\src\\\u001b[39m\u001b[90;4mprocess_messages.jl:72\u001b[0m\n [6] \u001b[0m\u001b[1m#96\u001b[22m\n\u001b[90m   @ \u001b[39m\u001b[90m.\\\u001b[39m\u001b[90;4mtask.jl:411\u001b[0m\n\n...and 2 more exceptions.\n",
      "",
      "Stacktrace:",
      " [1] sync_end(c::Channel{Any})",
      "   @ Base .\\task.jl:369",
      " [2] macro expansion",
      "   @ .\\task.jl:388 [inlined]",
      " [3] remotecall_eval(m::Module, procs::Vector{Int64}, ex::Expr)",
      "   @ Distributed C:\\buildbot\\worker\\package_win64\\build\\usr\\share\\julia\\stdlib\\v1.6\\Distributed\\src\\macros.jl:223",
      " [4] top-level scope",
      "   @ C:\\buildbot\\worker\\package_win64\\build\\usr\\share\\julia\\stdlib\\v1.6\\Distributed\\src\\macros.jl:207",
      " [5] eval",
      "   @ .\\boot.jl:360 [inlined]",
      " [6] include_string(mapexpr::typeof(REPL.softscope), mod::Module, code::String, filename::String)",
      "   @ Base .\\loading.jl:1116"
     ]
    }
   ],
   "source": [
    "using Distributed\n",
    "using Dates\n",
    "#using SharedArrays\n",
    "addprocs(2)\n",
    "\n",
    "@everywhere using Plots\n",
    "@everywhere using LinearAlgebra\n",
    "@everywhere const R = 10.\n",
    "@everywhere const Nk = 100\n",
    "@everywhere const Nw = 1000\n",
    "@everywhere const d = 1/20\n",
    "@everywhere const beta = 10000\n",
    "@everywhere const mu = 0.\n",
    "@everywhere function test(inputdata)\n",
    "    numofdata = countlines(inputdata) #ファイル行数をカウント.テキストファイルを上から詰めておかないと、空のファイルとみなされる\n",
    "    data = readlines(inputdata) #データファイルの読み込み。配列として確保される。\n",
    "    E = [] #空の配列\n",
    "    ims = [] #空の配列\n",
    "    res = []\n",
    "    #data_string = [] #空の配列\n",
    "    for inum = 1:numofdata\n",
    "        u = split(data[inum]) #i番目のデータ。\n",
    "        #println(u) #この状態ではstringになっている。\n",
    "        e = parse(Float64,u[1]) \n",
    "        i = parse.(Float64,u[2]) \n",
    "        r = parse.(Float64,u[3])\n",
    "        #ds = u[end] #最後の文字列の読み込み。endは配列の最後を意味する。\n",
    "        push!(E,e) #データの追加\n",
    "        push!(ims,i) #データの追加\n",
    "        push!(res,r) #データの追加\n",
    "    end\n",
    "    println(\"energy = $E\")\n",
    "    println(\"imS = $ims\")\n",
    "    println(\"reS = $res\")\n",
    "    return E,ims,res\n",
    "end\n",
    "#@everywhere SAA = ARGS[1]#ここが問題\n",
    "#@everywhere SBB = ARGS[2]\n",
    "#@everywhere omega,imsA,resA = test(\"SAAtest.txt\")#これは絶対大丈夫\n",
    "#@everywhere omega,imsB,resB = test(\"SBBtest.txt\")\n",
    "omega,imsA,resA = test(\"SAAtest.txt\")\n",
    "omega,imsB,resB = test(\"SBBtest.txt\")\n",
    "M = parse.(Float64,0)\n",
    "kx = range(0,2pi,length = Nk)\n",
    "ky = copy(kx)\n",
    "BZ = []#並列化できるようにBZを1次元配列にする\n",
    "for i in 1:length(kx)\n",
    "    for j in 1:length(ky)\n",
    "        push!(BZ,[kx[i],ky[j]])\n",
    "    end\n",
    "end\n",
    "BZ1 = []\n",
    "for i in 1:5000\n",
    "    push!(BZ1,BZ[i])\n",
    "end\n",
    "BZ2 = []\n",
    "for i in 5000 + 1:length(BZ)\n",
    "    push!(BZ2,BZ[i])\n",
    "end\n",
    "@everywhere function H(k::Vector{Float64},M::Float64)\n",
    "    kx = k[1]\n",
    "    ky = k[2]\n",
    "    h11 = M + cos(kx) + cos(ky)\n",
    "    h12 = complex(sin(kx),-sin(ky))\n",
    "    h21 = conj(h12)\n",
    "    h22 = -(M + cos(kx) + cos(ky))\n",
    "    H = zeros(ComplexF64,2,2)\n",
    "    H[1,1] = h11\n",
    "    H[1,2] = h12\n",
    "    H[2,1] = h21\n",
    "    H[2,2] = h22\n",
    "\n",
    "\n",
    "    return(Hermitian(H))\n",
    "end\n",
    "@everywhere function H_dx(k::Vector{Float64})\n",
    "    kx = k[1]\n",
    "    ky = k[2]\n",
    "    h11 = -sin(kx)\n",
    "    h12 = cos(kx)\n",
    "    h21 = conj(h12)\n",
    "    h22 = sin(kx)\n",
    "    H = zeros(ComplexF64,2,2)\n",
    "    H[1,1] = h11\n",
    "    H[1,2] = h12\n",
    "    H[2,1] = h21\n",
    "    H[2,2] = h22\n",
    "\n",
    "\n",
    "    return(Hermitian(H))\n",
    "end\n",
    "@everywhere function H_dy(k::Vector{Float64})\n",
    "    kx = k[1]\n",
    "    ky = k[2]\n",
    "    h11 = -sin(ky)\n",
    "    h12 = complex(0,-cos(ky))\n",
    "    h21 = conj(h12)\n",
    "    h22 = sin(ky)\n",
    "    H = zeros(ComplexF64,2,2)\n",
    "    H[1,1] = h11\n",
    "    H[1,2] = h12\n",
    "    H[2,1] = h21\n",
    "    H[2,2] = h22\n",
    "\n",
    "\n",
    "    return(Hermitian(H))\n",
    "end\n",
    "#自己エネルギー\n",
    "@everywhere function Sigma(NE::Int)\n",
    "    return([complex(resA[NE],imsA[NE]) 0.;0. complex(resB[NE],imsB[NE])])\n",
    "end\n",
    "#自己エネルギー込みのGreen関数\n",
    "@everywhere function Gok(NE::Int#=周波数の番号=#,k::Vector{Float64},M::Float64)\n",
    "    return(inv(((omega[NE] + mu + complex(0,d))*Matrix{Float64}(I,2,2)-(H(k,M)+Sigma(NE)))))\n",
    "end \n",
    "#localなGreen関数\n",
    "@everywhere function G0(NE::Int,M::Float64)\n",
    "    return(sum(Gok.(NE,BZ1,M)))\n",
    "    \n",
    "end\n",
    "@everywhere function Go(NE::Int,M::Float64)\n",
    "    a = fetch(@spawnat 2 sum(Gok.(NE,BZ1,M)))\n",
    "    b = fetch(@spawnat 3 sum(Gok.(NE,BZ2,M)))\n",
    "    #=\n",
    "    sum = @distributed (+) for i in 1:length(BZ1)\n",
    "    Gok(NE,BZ1[i],M)\n",
    "    end=#\n",
    "    return((a+b)*(1/Nk)^2)\n",
    "end\n",
    "\n",
    "#hybridization function\n",
    "@everywhere function Delta(NE::Int,M::Float64)\n",
    "    return(inv(Go(NE,M)) + Sigma(NE))\n",
    "end\n",
    "\n"
   ]
  },
  {
   "cell_type": "code",
   "execution_count": 69,
   "metadata": {},
   "outputs": [
    {
     "data": {
      "text/plain": [
       "10×10 Matrix{Float64}:\n",
       " 0.427006   0.658015  0.522074  0.139464  …  0.0531553  0.736134   0.833486\n",
       " 0.885474   0.135245  0.736586  0.772799     0.699922   0.9743     0.438292\n",
       " 0.798658   0.608878  0.939855  0.532898     0.242769   0.96809    0.968656\n",
       " 0.842833   0.694672  0.889053  0.947433     0.776581   0.128478   0.836106\n",
       " 0.669851   0.98777   0.448791  0.460992     0.197646   0.317054   0.611152\n",
       " 0.217898   0.502643  0.590367  0.604549  …  0.605176   0.0290154  0.619056\n",
       " 0.113902   0.325779  0.718752  0.79394      0.270636   0.462399   0.31864\n",
       " 0.244567   0.355921  0.96971   0.704801     0.0863754  0.687099   0.473189\n",
       " 0.431783   0.148291  0.39076   0.310551     0.158381   0.142038   0.45863\n",
       " 0.0433443  0.590306  0.504138  0.302599     0.389809   0.251046   0.747976"
      ]
     },
     "execution_count": 69,
     "metadata": {},
     "output_type": "execute_result"
    }
   ],
   "source": [
    "A = rand(10,10)"
   ]
  },
  {
   "cell_type": "code",
   "execution_count": 71,
   "metadata": {},
   "outputs": [],
   "source": [
    "@everywhere function tq(D)\n",
    "    return(D[1,1,])\n",
    "end "
   ]
  },
  {
   "cell_type": "code",
   "execution_count": 72,
   "metadata": {},
   "outputs": [
    {
     "data": {
      "text/plain": [
       "0.4270059645573432"
      ]
     },
     "execution_count": 72,
     "metadata": {},
     "output_type": "execute_result"
    }
   ],
   "source": [
    "remotecall_fetch(()->tq(A),2)"
   ]
  },
  {
   "cell_type": "code",
   "execution_count": 74,
   "metadata": {},
   "outputs": [
    {
     "ename": "LoadError",
     "evalue": "On worker 2:\nUndefVarError: Go not defined\nStacktrace:\n [1] \u001b[0m\u001b[1m#87\u001b[22m\n\u001b[90m   @ \u001b[39m\u001b[90mC:\\buildbot\\worker\\package_win64\\build\\usr\\share\\julia\\stdlib\\v1.6\\Distributed\\src\\\u001b[39m\u001b[90;4mmacros.jl:87\u001b[0m\n [2] \u001b[0m\u001b[1m#103\u001b[22m\n\u001b[90m   @ \u001b[39m\u001b[90mC:\\buildbot\\worker\\package_win64\\build\\usr\\share\\julia\\stdlib\\v1.6\\Distributed\\src\\\u001b[39m\u001b[90;4mprocess_messages.jl:274\u001b[0m\n [3] \u001b[0m\u001b[1mrun_work_thunk\u001b[22m\n\u001b[90m   @ \u001b[39m\u001b[90mC:\\buildbot\\worker\\package_win64\\build\\usr\\share\\julia\\stdlib\\v1.6\\Distributed\\src\\\u001b[39m\u001b[90;4mprocess_messages.jl:63\u001b[0m\n [4] \u001b[0m\u001b[1mrun_work_thunk\u001b[22m\n\u001b[90m   @ \u001b[39m\u001b[90mC:\\buildbot\\worker\\package_win64\\build\\usr\\share\\julia\\stdlib\\v1.6\\Distributed\\src\\\u001b[39m\u001b[90;4mprocess_messages.jl:72\u001b[0m\n [5] \u001b[0m\u001b[1m#96\u001b[22m\n\u001b[90m   @ \u001b[39m\u001b[90m.\\\u001b[39m\u001b[90;4mtask.jl:411\u001b[0m",
     "output_type": "error",
     "traceback": [
      "On worker 2:\nUndefVarError: Go not defined\nStacktrace:\n [1] \u001b[0m\u001b[1m#87\u001b[22m\n\u001b[90m   @ \u001b[39m\u001b[90mC:\\buildbot\\worker\\package_win64\\build\\usr\\share\\julia\\stdlib\\v1.6\\Distributed\\src\\\u001b[39m\u001b[90;4mmacros.jl:87\u001b[0m\n [2] \u001b[0m\u001b[1m#103\u001b[22m\n\u001b[90m   @ \u001b[39m\u001b[90mC:\\buildbot\\worker\\package_win64\\build\\usr\\share\\julia\\stdlib\\v1.6\\Distributed\\src\\\u001b[39m\u001b[90;4mprocess_messages.jl:274\u001b[0m\n [3] \u001b[0m\u001b[1mrun_work_thunk\u001b[22m\n\u001b[90m   @ \u001b[39m\u001b[90mC:\\buildbot\\worker\\package_win64\\build\\usr\\share\\julia\\stdlib\\v1.6\\Distributed\\src\\\u001b[39m\u001b[90;4mprocess_messages.jl:63\u001b[0m\n [4] \u001b[0m\u001b[1mrun_work_thunk\u001b[22m\n\u001b[90m   @ \u001b[39m\u001b[90mC:\\buildbot\\worker\\package_win64\\build\\usr\\share\\julia\\stdlib\\v1.6\\Distributed\\src\\\u001b[39m\u001b[90;4mprocess_messages.jl:72\u001b[0m\n [5] \u001b[0m\u001b[1m#96\u001b[22m\n\u001b[90m   @ \u001b[39m\u001b[90m.\\\u001b[39m\u001b[90;4mtask.jl:411\u001b[0m",
      "",
      "Stacktrace:",
      " [1] #remotecall_fetch#143",
      "   @ C:\\buildbot\\worker\\package_win64\\build\\usr\\share\\julia\\stdlib\\v1.6\\Distributed\\src\\remotecall.jl:394 [inlined]",
      " [2] remotecall_fetch(f::Function, w::Distributed.Worker, args::Distributed.RRID)",
      "   @ Distributed C:\\buildbot\\worker\\package_win64\\build\\usr\\share\\julia\\stdlib\\v1.6\\Distributed\\src\\remotecall.jl:386",
      " [3] #remotecall_fetch#146",
      "   @ C:\\buildbot\\worker\\package_win64\\build\\usr\\share\\julia\\stdlib\\v1.6\\Distributed\\src\\remotecall.jl:421 [inlined]",
      " [4] remotecall_fetch",
      "   @ C:\\buildbot\\worker\\package_win64\\build\\usr\\share\\julia\\stdlib\\v1.6\\Distributed\\src\\remotecall.jl:421 [inlined]",
      " [5] call_on_owner",
      "   @ C:\\buildbot\\worker\\package_win64\\build\\usr\\share\\julia\\stdlib\\v1.6\\Distributed\\src\\remotecall.jl:494 [inlined]",
      " [6] fetch(r::Future)",
      "   @ Distributed C:\\buildbot\\worker\\package_win64\\build\\usr\\share\\julia\\stdlib\\v1.6\\Distributed\\src\\remotecall.jl:533",
      " [7] top-level scope",
      "   @ C:\\buildbot\\worker\\package_win64\\build\\usr\\share\\julia\\stdlib\\v1.6\\Distributed\\src\\macros.jl:99",
      " [8] eval",
      "   @ .\\boot.jl:360 [inlined]",
      " [9] include_string(mapexpr::typeof(REPL.softscope), mod::Module, code::String, filename::String)",
      "   @ Base .\\loading.jl:1116"
     ]
    }
   ],
   "source": [
    "fetch(@spawnat 2 Go(1.,0.))"
   ]
  },
  {
   "cell_type": "code",
   "execution_count": 83,
   "metadata": {},
   "outputs": [
    {
     "data": {
      "text/plain": [
       "q (generic function with 1 method)"
      ]
     },
     "execution_count": 83,
     "metadata": {},
     "output_type": "execute_result"
    }
   ],
   "source": [
    "function q(a::Array{Float64,1})\n",
    "    println(a[10])\n",
    "end"
   ]
  },
  {
   "cell_type": "code",
   "execution_count": 84,
   "metadata": {},
   "outputs": [
    {
     "name": "stdout",
     "output_type": "stream",
     "text": [
      "1.18675043e-315\n"
     ]
    }
   ],
   "source": [
    "q(c)"
   ]
  },
  {
   "cell_type": "code",
   "execution_count": 81,
   "metadata": {},
   "outputs": [
    {
     "data": {
      "text/plain": [
       "10-element Vector{Float64}:\n",
       " 1.175481064e-315\n",
       " 1.175481064e-315\n",
       " 1.175481064e-315\n",
       " 1.175481064e-315\n",
       " 1.175481064e-315\n",
       " 1.175481064e-315\n",
       " 1.175481064e-315\n",
       " 1.175481064e-315\n",
       " 1.175481064e-315\n",
       " 1.18675043e-315"
      ]
     },
     "execution_count": 81,
     "metadata": {},
     "output_type": "execute_result"
    }
   ],
   "source": [
    "c = Array{Float64,1}(undef,10)"
   ]
  },
  {
   "cell_type": "code",
   "execution_count": 79,
   "metadata": {},
   "outputs": [
    {
     "data": {
      "text/plain": [
       "1-element Vector{Float64}:\n",
       " 2.036514245e-315"
      ]
     },
     "execution_count": 79,
     "metadata": {},
     "output_type": "execute_result"
    }
   ],
   "source": [
    "c"
   ]
  },
  {
   "cell_type": "code",
   "execution_count": null,
   "metadata": {},
   "outputs": [],
   "source": []
  }
 ],
 "metadata": {
  "interpreter": {
   "hash": "eee0d84e566eba22a92c8ed3419fe9da427ae5a223bd337bb4eed38e92434bf8"
  },
  "kernelspec": {
   "display_name": "Julia 1.6.2",
   "language": "julia",
   "name": "julia-1.6"
  },
  "language_info": {
   "file_extension": ".jl",
   "mimetype": "application/julia",
   "name": "julia",
   "version": "1.6.2"
  },
  "orig_nbformat": 4
 },
 "nbformat": 4,
 "nbformat_minor": 2
}
